{
  "nbformat": 4,
  "nbformat_minor": 0,
  "metadata": {
    "colab": {
      "provenance": []
    },
    "kernelspec": {
      "name": "python3",
      "display_name": "Python 3"
    },
    "language_info": {
      "name": "python"
    }
  },
  "cells": [
    {
      "cell_type": "code",
      "execution_count": 1,
      "metadata": {
        "colab": {
          "base_uri": "https://localhost:8080/"
        },
        "id": "HQTyDwQY2Vco",
        "outputId": "6d3ba308-f47f-4122-8c02-dfb15f9829e4"
      },
      "outputs": [
        {
          "output_type": "stream",
          "name": "stdout",
          "text": [
            "Lookalike recommendations saved to Lookalike.csv\n"
          ]
        }
      ],
      "source": [
        "# TASK 2\n",
        "import pandas as pd\n",
        "import numpy as np\n",
        "from sklearn.metrics.pairwise import cosine_similarity\n",
        "\n",
        "# Load data\n",
        "def load_data():\n",
        "    customers = pd.read_csv(\"Customers.csv\")\n",
        "    transactions = pd.read_csv(\"Transactions.csv\")\n",
        "    return customers, transactions\n",
        "\n",
        "# Build Lookalike Model\n",
        "def build_lookalike_model(customers, transactions):\n",
        "    # Aggregate transaction data\n",
        "    customer_features = transactions.groupby('CustomerID').agg({\n",
        "        'TotalValue': 'sum',\n",
        "        'Quantity': 'sum'\n",
        "    }).reset_index()\n",
        "\n",
        "    # Merge with customer data\n",
        "    customer_features = customer_features.merge(customers, on='CustomerID')\n",
        "\n",
        "    # Select features for similarity computation\n",
        "    feature_data = customer_features[['TotalValue', 'Quantity']]\n",
        "\n",
        "    # Compute similarity matrix\n",
        "    similarity_matrix = cosine_similarity(feature_data)\n",
        "    customer_ids = customer_features['CustomerID'].tolist()\n",
        "\n",
        "    # Generate recommendations for the first 20 customers\n",
        "    recommendations = {}\n",
        "    for i, cust_id in enumerate(customer_ids[:20]):\n",
        "        similar_indices = np.argsort(-similarity_matrix[i])[:4]\n",
        "        similar_customers = [\n",
        "            (customer_ids[idx], similarity_matrix[i][idx]) for idx in similar_indices if idx != i\n",
        "        ][:3]\n",
        "        recommendations[cust_id] = similar_customers\n",
        "\n",
        "    # Save results to a CSV file\n",
        "    lookalike_df = pd.DataFrame({\n",
        "        'CustomerID': list(recommendations.keys()),\n",
        "        'SimilarCustomers': [str(v) for v in recommendations.values()]\n",
        "    })\n",
        "\n",
        "    lookalike_df.to_csv(\"Lookalike.csv\", index=False)\n",
        "    print(\"Lookalike recommendations saved to Lookalike.csv\")\n",
        "\n",
        "# Main Function\n",
        "def main():\n",
        "    customers, transactions = load_data()\n",
        "    build_lookalike_model(customers, transactions)\n",
        "\n",
        "if __name__ == \"__main__\":\n",
        "    main()"
      ]
    },
    {
      "cell_type": "markdown",
      "source": [
        "# Explanation:\n",
        "\n",
        "# Feature Engineering:\n",
        "\n",
        "# Customer-level aggregates for TotalValue (total transaction value) and Quantity (total products purchased) were created from the Transactions.csv file.\n",
        "\n",
        "# These features were chosen as they capture a customer's purchasing behavior effectively.\n",
        "\n",
        "# Cosine Similarity:\n",
        "\n",
        "# Cosine similarity was used to measure the similarity between customers based on their purchasing profiles.\n",
        "\n",
        "# This metric ensures that customers with similar spending patterns, regardless of scale, are grouped together.\n",
        "\n",
        "# Top Recommendations:\n",
        "\n",
        "# For each customer, the top 3 most similar customers were identified, excluding themselves.\n",
        "\n",
        "# Example Output:\n",
        "\n",
        "# CustomerID\n",
        "\n",
        "# SimilarCustomers\n",
        "\n",
        "# C0001\n",
        "\n",
        "# [(C0005, 0.98), (C0010, 0.95), (C0008, 0.93)]\n",
        "\n",
        "# C0002\n",
        "\n",
        "# [(C0003, 0.96), (C0007, 0.94), (C0011, 0.92)]\n",
        "\n",
        "# Business Insights:\n",
        "\n",
        "# Personalized Recommendations:\n",
        "\n",
        "# By identifying similar customers, businesses can create targeted marketing strategies, such as recommending products popular among a customer’s lookalikes.\n",
        "\n",
        "# Cross-Selling Opportunities:\n",
        "\n",
        "# If similar customers frequently buy certain products, these can be recommended to other customers in the group to increase sales.\n",
        "\n",
        "# Customer Retention:\n",
        "\n",
        "# Similarity scores can help identify customers with purchasing patterns similar to high-value clients. Retention efforts can then focus on these segments.\n",
        "\n",
        "# Customer Behavior Analysis:\n",
        "\n",
        "# Clustering based on similarity provides deeper insights into consumer behavior, such as preferences for product categories or price points.\n",
        "\n",
        "# Loyalty Program Design:\n",
        "\n",
        "# Grouping similar customers allows for the creation of tailored loyalty programs to enhance engagement and increase lifetime value."
      ],
      "metadata": {
        "id": "1QJwD90z2xR4"
      }
    }
  ]
}